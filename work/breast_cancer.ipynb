{
 "cells": [
  {
   "cell_type": "code",
   "execution_count": null,
   "id": "a2d2b883-e9c0-4ce2-9025-17fd1bc73a63",
   "metadata": {},
   "outputs": [],
   "source": [
    "import pandas as pd\n",
    "import numpy as np\n",
    "import random\n",
    "import matplotlib.pyplot as plt\n",
    "from sklearn import datasets, linear_model\n",
    "from sklearn.model_selection import train_test_split\n",
    "import seaborn as sns"
   ]
  },
  {
   "cell_type": "code",
   "execution_count": null,
   "id": "f2135e1d-43ca-4af9-b883-62cb8c913458",
   "metadata": {},
   "outputs": [],
   "source": [
    "bcdf = pd.read_csv(\"breast_cancer.csv\", header=None)"
   ]
  },
  {
   "cell_type": "code",
   "execution_count": null,
   "id": "58eec2ae-2636-45b3-a01d-7870ca7c4b30",
   "metadata": {},
   "outputs": [],
   "source": [
    "info = bcdf.info(verbose = False)"
   ]
  },
  {
   "cell_type": "code",
   "execution_count": null,
   "id": "041494fd-8e4e-46b1-b778-2f45261cd43c",
   "metadata": {},
   "outputs": [],
   "source": [
    "bcdf.columns = [\"ID\", \"Diag\", \"1\", \"2\",\"3\", \"4\", \"5\", \"6\",\"7\", \"8\",\"9\",\"10\"\n",
    "               , \"11\", \"12\",\"13\", \"14\", \"15\", \"16\",\"17\", \"18\",\"19\",\"20\"\n",
    "               , \"21\", \"22\",\"23\", \"24\", \"25\", \"26\",\"27\", \"28\",\"29\",\"30\"]"
   ]
  },
  {
   "cell_type": "code",
   "execution_count": null,
   "id": "21dac0e3-4b06-49ff-a284-374bcd2e318e",
   "metadata": {},
   "outputs": [],
   "source": [
    "Y = bcdf.loc[:, 'Diag']"
   ]
  },
  {
   "cell_type": "code",
   "execution_count": null,
   "id": "af78db07-ffba-476d-a696-daf7abb5b9be",
   "metadata": {},
   "outputs": [],
   "source": [
    "X = bcdf.iloc[:, 2:]"
   ]
  },
  {
   "cell_type": "code",
   "execution_count": null,
   "id": "66e76817-b30a-403f-8e31-3b1a32a86ede",
   "metadata": {},
   "outputs": [],
   "source": [
    "fig, ax = plt.subplots(figsize=(20,20))\n",
    "snsheat = sns.heatmap(X.corr(),linewidths=0.5, annot=True, ax =ax)\n",
    "figcorr = snsheat.get_figure()\n",
    "figcorr.savefig (\"./correlation.png\")"
   ]
  },
  {
   "cell_type": "code",
   "execution_count": null,
   "id": "9f7d0b46-dd34-42f8-836b-b1cdc1df604f",
   "metadata": {},
   "outputs": [],
   "source": [
    "plt.clf()\n",
    "snsattr1 = sns.violinplot(data = bcdf, x='1', y ='Diag', color ='Green')\n",
    "figattr1 = snsattr1.get_figure()\n",
    "figattr1.savefig(\"./attr1.png\")"
   ]
  },
  {
   "cell_type": "code",
   "execution_count": null,
   "id": "f6ee7068-b7fd-4c33-82d3-b338a25cbf89",
   "metadata": {},
   "outputs": [],
   "source": [
    "plt.clf()\n",
    "snsattr2 = sns.violinplot(data = bcdf, x='2', y ='Diag', color ='Yellow')\n",
    "figattr2 = snsattr2.get_figure()\n",
    "figattr2.savefig(\"./attr2.png\")"
   ]
  },
  {
   "cell_type": "code",
   "execution_count": null,
   "id": "7964661b-aca2-4298-bebc-6bd426f2cda8",
   "metadata": {},
   "outputs": [],
   "source": [
    "plt.clf()\n",
    "snsattr5 = sns.violinplot(data = bcdf, x='5', y ='Diag', color ='Red')\n",
    "figattr5 = snsattr5.get_figure()\n",
    "figattr5.savefig(\"./attr5.png\")"
   ]
  },
  {
   "cell_type": "code",
   "execution_count": null,
   "id": "9642c129-dabe-4b43-93aa-3df7966c168d",
   "metadata": {},
   "outputs": [],
   "source": [
    "plt.clf()\n",
    "snsattr6 = sns.violinplot(data = bcdf, x='6', y ='Diag', color ='Orange')\n",
    "figattr6 = snsattr6.get_figure()\n",
    "figattr6.savefig(\"./attr6.png\")"
   ]
  },
  {
   "cell_type": "code",
   "execution_count": null,
   "id": "f122c365-d606-4ed4-8440-4db0184eebc9",
   "metadata": {},
   "outputs": [],
   "source": [
    "X_train, X_test, Y_train, Y_test = train_test_split(X, Y, random_state=42, test_size = 0.33)"
   ]
  },
  {
   "cell_type": "code",
   "execution_count": null,
   "id": "833b0820-7551-452d-a90b-475d7e367eb6",
   "metadata": {},
   "outputs": [],
   "source": [
    "from sklearn.tree import DecisionTreeClassifier\n",
    "clf = DecisionTreeClassifier(max_depth = 4)"
   ]
  },
  {
   "cell_type": "code",
   "execution_count": null,
   "id": "0e082b77-e013-4110-b652-fcfdcd11a8bd",
   "metadata": {},
   "outputs": [],
   "source": [
    "clf=clf.fit(X_train, Y_train)\n",
    "Y_predict = clf.predict(X_test)"
   ]
  },
  {
   "cell_type": "code",
   "execution_count": null,
   "id": "67cc18e3-6c73-4947-8b62-aa749934195a",
   "metadata": {},
   "outputs": [],
   "source": [
    "from sklearn.metrics import accuracy_score\n",
    "accuracy_score(Y_test, Y_predict)"
   ]
  },
  {
   "cell_type": "code",
   "execution_count": null,
   "id": "cbb1ff90-7916-4ba0-b716-6cf5e7466b86",
   "metadata": {},
   "outputs": [],
   "source": [
    "from sklearn.metrics import confusion_matrix\n",
    "confusion_matrix(Y_test, Y_predict )"
   ]
  },
  {
   "cell_type": "code",
   "execution_count": null,
   "id": "3fdcb3cd-e451-4684-9656-801c4a7735d5",
   "metadata": {},
   "outputs": [],
   "source": [
    "from sklearn.metrics import classification_report\n",
    "reportdt1 = classification_report(Y_test, Y_predict, output_dict=True, target_names=['malignant','benign'])\n",
    "dfdt1 = pd.DataFrame(reportdt1).transpose()\n",
    "dfdt1.to_json(\"./DecisionTree1.json\")"
   ]
  },
  {
   "cell_type": "code",
   "execution_count": null,
   "id": "12c1427d-f828-41eb-9a33-d2633f27d322",
   "metadata": {},
   "outputs": [],
   "source": [
    "X1 = X.drop(columns=['3','4','21','23','24','22','8','13','14'])\n",
    "Y1= Y.copy()"
   ]
  },
  {
   "cell_type": "code",
   "execution_count": null,
   "id": "abdd932a-3119-4006-bbcb-3436b5bd7746",
   "metadata": {},
   "outputs": [],
   "source": [
    "X1_train, X1_test, Y1_train, Y1_test = train_test_split(X1, Y1, random_state=42, test_size = 0.33)\n",
    "clf1 = DecisionTreeClassifier(max_depth = 4)\n",
    "clf1=clf1.fit(X1_train, Y1_train)\n",
    "Y1_predict = clf1.predict(X1_test)\n",
    "accuracy_score(Y1_test, Y1_predict)"
   ]
  },
  {
   "cell_type": "code",
   "execution_count": null,
   "id": "cf2da4b7-3057-4468-a8ef-2a4a9fb81aa1",
   "metadata": {},
   "outputs": [],
   "source": [
    "confusion_matrix(Y1_test, Y1_predict )"
   ]
  },
  {
   "cell_type": "code",
   "execution_count": null,
   "id": "a5661d35-9f03-43a9-9be6-72bb98f6acae",
   "metadata": {},
   "outputs": [],
   "source": [
    "reportdt2 = classification_report(Y1_test, Y1_predict, output_dict=True, target_names=['malignant','benign'])\n",
    "dfdt2 = pd.DataFrame(reportdt2).transpose()\n",
    "dfdt2.to_json(\"./DecisionTree2.json\")"
   ]
  },
  {
   "cell_type": "code",
   "execution_count": null,
   "id": "be4ea246-4fcb-42f7-93fa-93e47fe2a928",
   "metadata": {},
   "outputs": [],
   "source": [
    "import sklearn.preprocessing as preprocessing\n",
    "Label = preprocessing.LabelEncoder()\n",
    "Diag = Label.fit_transform(bcdf['Diag'])"
   ]
  },
  {
   "cell_type": "code",
   "execution_count": null,
   "id": "c38283d0-7be4-450a-af17-dbe7106cbddf",
   "metadata": {},
   "outputs": [],
   "source": [
    "train, test = train_test_split(bcdf, random_state=42, test_size = 0.33)\n",
    "X2_train = train[train.columns[2:30]]\n",
    "Y2_train=train['Diag']\n",
    "X2_test = test[test.columns[2:30]]\n",
    "Y2_test = test['Diag']"
   ]
  },
  {
   "cell_type": "code",
   "execution_count": null,
   "id": "21e52f9e-3d8c-46df-97f7-30c115048562",
   "metadata": {},
   "outputs": [],
   "source": [
    "from sklearn.preprocessing  import StandardScaler\n",
    "scaler = StandardScaler()\n",
    "scaler.fit(X2_train)\n",
    "X2_train = scaler.transform(X2_train)\n",
    "X2_test = scaler.transform(X2_test)"
   ]
  },
  {
   "cell_type": "code",
   "execution_count": null,
   "id": "b6501954-d4d1-453f-8764-b764b0c92d5b",
   "metadata": {},
   "outputs": [],
   "source": [
    "from sklearn.neural_network import MLPClassifier\n",
    "MLP = MLPClassifier(hidden_layer_sizes=(10,10,10), max_iter=1000)"
   ]
  },
  {
   "cell_type": "code",
   "execution_count": null,
   "id": "e96a163c-bd5d-4e16-aa20-5ab4a983f8cb",
   "metadata": {},
   "outputs": [],
   "source": [
    "MLP.fit(X2_train, Y2_train.values.ravel())\n",
    "Y2_predict = MLP.predict(X2_test)\n",
    "accuracy_score(Y2_test, Y2_predict)"
   ]
  },
  {
   "cell_type": "code",
   "execution_count": null,
   "id": "6a2e9485-e387-4671-bfec-b9107063cba4",
   "metadata": {},
   "outputs": [],
   "source": [
    "confusion_matrix(Y2_test, Y2_predict )"
   ]
  },
  {
   "cell_type": "code",
   "execution_count": null,
   "id": "672ca63a-193d-4f02-a44b-97078fb156ea",
   "metadata": {},
   "outputs": [],
   "source": [
    "reportmlp1 = classification_report(Y2_test, Y2_predict, output_dict=True, target_names=['malignant','benign'])\n",
    "dfmlp1 = pd.DataFrame(reportmlp1).transpose()\n",
    "dfmlp1.to_json(\"./MLP1.json\")"
   ]
  },
  {
   "cell_type": "code",
   "execution_count": null,
   "id": "58f54772-f6fb-4838-bd02-0b3c80c4f99b",
   "metadata": {},
   "outputs": [],
   "source": [
    "bcdf3 = bcdf.drop(columns=['3','4','21','23','24','22','8','13','14'])"
   ]
  },
  {
   "cell_type": "code",
   "execution_count": null,
   "id": "05604781-f645-46b0-8c8a-523d02a50fb9",
   "metadata": {},
   "outputs": [],
   "source": [
    "Label3 = preprocessing.LabelEncoder()\n",
    "Diag3 = Label3.fit_transform(bcdf['Diag'])\n",
    "train3, test3 = train_test_split(bcdf3, random_state=42, test_size = 0.33)\n",
    "X3_train = train3[train3.columns[2:30]]\n",
    "Y3_train=train3['Diag']\n",
    "X3_test = test3[test3.columns[2:30]]\n",
    "Y3_test = test3['Diag']"
   ]
  },
  {
   "cell_type": "code",
   "execution_count": null,
   "id": "9ce26284-a1c5-40c8-a3a0-a9d0d8d105cb",
   "metadata": {},
   "outputs": [],
   "source": [
    "scaler3 = StandardScaler()\n",
    "scaler3.fit(X3_train)\n",
    "X3_train = scaler3.transform(X3_train)\n",
    "X3_test = scaler3.transform(X3_test)"
   ]
  },
  {
   "cell_type": "code",
   "execution_count": null,
   "id": "0d2f5617-cd4a-43dc-8157-3662890404d6",
   "metadata": {},
   "outputs": [],
   "source": [
    "MLP3 = MLPClassifier(hidden_layer_sizes=(10,10,10), max_iter=1000)\n",
    "MLP3.fit(X3_train, Y3_train.values.ravel())\n",
    "Y3_predict = MLP3.predict(X3_test)"
   ]
  },
  {
   "cell_type": "code",
   "execution_count": null,
   "id": "c8d92016-007a-40dc-9b35-2f353819ce33",
   "metadata": {},
   "outputs": [],
   "source": [
    "accuracy_score(Y3_test, Y3_predict)"
   ]
  },
  {
   "cell_type": "code",
   "execution_count": null,
   "id": "1684c975-a833-4f2c-b365-ff3ec1ae948f",
   "metadata": {},
   "outputs": [],
   "source": [
    "confusion_matrix(Y3_test, Y3_predict )"
   ]
  },
  {
   "cell_type": "code",
   "execution_count": null,
   "id": "4a8eccdb-a6e2-43f7-a0f0-2da8de3dedd2",
   "metadata": {},
   "outputs": [],
   "source": [
    "reportmlp2 = classification_report(Y3_test, Y3_predict, output_dict=True, target_names=['malignant','benign'])\n",
    "dfmlp2 = pd.DataFrame(reportmlp2).transpose()\n",
    "dfmlp2.to_json(\"./MLP2.json\")"
   ]
  }
 ],
 "metadata": {
  "kernelspec": {
   "display_name": "Python 3 (ipykernel)",
   "language": "python",
   "name": "python3"
  },
  "language_info": {
   "codemirror_mode": {
    "name": "ipython",
    "version": 3
   },
   "file_extension": ".py",
   "mimetype": "text/x-python",
   "name": "python",
   "nbconvert_exporter": "python",
   "pygments_lexer": "ipython3",
   "version": "3.11.6"
  }
 },
 "nbformat": 4,
 "nbformat_minor": 5
}
